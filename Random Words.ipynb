{
 "cells": [
  {
   "cell_type": "code",
   "execution_count": 2,
   "metadata": {},
   "outputs": [],
   "source": [
    "import random"
   ]
  },
  {
   "cell_type": "code",
   "execution_count": 5,
   "metadata": {},
   "outputs": [],
   "source": [
    "DIGITS = ['0', '1', '2', '3', '4', '5', '6', '7', '8', '9']   \n",
    "LOCASE_CHARACTERS = ['a', 'b', 'c', 'd', 'e', 'f', 'g', 'h',  \n",
    "                     'i', 'j', 'k', 'm', 'n', 'o', 'p', 'q', \n",
    "                     'r', 's', 't', 'u', 'v', 'w', 'x', 'y', \n",
    "                     'z'] \n",
    "  \n",
    "UPCASE_CHARACTERS = ['A', 'B', 'C', 'D', 'E', 'F', 'G', 'H',  \n",
    "                     'I', 'J', 'K', 'M', 'N', 'O', 'p', 'Q', \n",
    "                     'R', 'S', 'T', 'U', 'V', 'W', 'X', 'Y', \n",
    "                     'Z'] \n",
    "  \n",
    "SYMBOLS = ['@', '#', '$', '%', '=', ':', '?', '.', '/', '|', '~', '>',  \n",
    "           '*', '(', ')']\n"
   ]
  },
  {
   "cell_type": "code",
   "execution_count": 6,
   "metadata": {},
   "outputs": [
    {
     "name": "stdout",
     "output_type": "stream",
     "text": [
      "Enter the no of passwords you want: 5\n",
      "Enter the length of password: 8\n"
     ]
    }
   ],
   "source": [
    "n = int(input(\"Enter the no of passwords you want: \"))\n",
    "l = int(input(\"Enter the length of password: \"))"
   ]
  },
  {
   "cell_type": "code",
   "execution_count": 8,
   "metadata": {},
   "outputs": [],
   "source": [
    "COMBINED = DIGITS + LOCASE_CHARACTERS + UPCASE_CHARACTERS + SYMBOLS "
   ]
  },
  {
   "cell_type": "code",
   "execution_count": 20,
   "metadata": {},
   "outputs": [
    {
     "name": "stdout",
     "output_type": "stream",
     "text": [
      "['8Mn|1FQ0', '8Ws.rmJp', '1Do>28qU', '3Hf)/f6@', '5Qo%4Yi(']\n"
     ]
    }
   ],
   "source": [
    "password = []\n",
    "for i in range(0,n):\n",
    "    rand_digit = random.choice(DIGITS) \n",
    "    rand_upper = random.choice(UPCASE_CHARACTERS) \n",
    "    rand_lower = random.choice(LOCASE_CHARACTERS) \n",
    "    rand_symbol = random.choice(SYMBOLS) \n",
    "\n",
    "    temp_pass = rand_digit + rand_upper + rand_lower + rand_symbol \n",
    "  \n",
    "    for x in range(l - 4): \n",
    "        temp_pass = temp_pass + random.choice(COMBINED) \n",
    "    password.append(temp_pass)\n",
    "print(password)        "
   ]
  }
 ],
 "metadata": {
  "kernelspec": {
   "display_name": "Python 3",
   "language": "python",
   "name": "python3"
  },
  "language_info": {
   "codemirror_mode": {
    "name": "ipython",
    "version": 3
   },
   "file_extension": ".py",
   "mimetype": "text/x-python",
   "name": "python",
   "nbconvert_exporter": "python",
   "pygments_lexer": "ipython3",
   "version": "3.7.6"
  }
 },
 "nbformat": 4,
 "nbformat_minor": 4
}
