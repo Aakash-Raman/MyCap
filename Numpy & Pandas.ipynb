{
  "nbformat": 4,
  "nbformat_minor": 0,
  "metadata": {
    "colab": {
      "name": "Untitled0.ipynb",
      "provenance": [],
      "authorship_tag": "ABX9TyN4eWlgvGCNriVfv9cyNaWJ",
      "include_colab_link": true
    },
    "kernelspec": {
      "name": "python3",
      "display_name": "Python 3"
    }
  },
  "cells": [
    {
      "cell_type": "markdown",
      "metadata": {
        "id": "view-in-github",
        "colab_type": "text"
      },
      "source": [
        "<a href=\"https://colab.research.google.com/github/Aakash-Raman/MyCap/blob/master/Numpy%20%26%20Pandas.ipynb\" target=\"_parent\"><img src=\"https://colab.research.google.com/assets/colab-badge.svg\" alt=\"Open In Colab\"/></a>"
      ]
    },
    {
      "cell_type": "code",
      "metadata": {
        "id": "C5H32gxGWq63",
        "colab_type": "code",
        "colab": {
          "base_uri": "https://localhost:8080/",
          "height": 34
        },
        "outputId": "55cbaeaf-4005-49b9-b180-b92fee4cefb8"
      },
      "source": [
        "!pip install numpy"
      ],
      "execution_count": 1,
      "outputs": [
        {
          "output_type": "stream",
          "text": [
            "Requirement already satisfied: numpy in /usr/local/lib/python3.6/dist-packages (1.18.2)\n"
          ],
          "name": "stdout"
        }
      ]
    },
    {
      "cell_type": "code",
      "metadata": {
        "id": "tftIxvGIW0VJ",
        "colab_type": "code",
        "colab": {
          "base_uri": "https://localhost:8080/",
          "height": 34
        },
        "outputId": "fadf70e3-a1ef-4e72-b597-c56cfa997e11"
      },
      "source": [
        "import numpy as np\n",
        "x = np.array([1,2,3])\n",
        "y = np.array([4,5,6])\n",
        "x + y"
      ],
      "execution_count": 5,
      "outputs": [
        {
          "output_type": "execute_result",
          "data": {
            "text/plain": [
              "array([5, 7, 9])"
            ]
          },
          "metadata": {
            "tags": []
          },
          "execution_count": 5
        }
      ]
    },
    {
      "cell_type": "code",
      "metadata": {
        "id": "pLZ99gazY6h0",
        "colab_type": "code",
        "colab": {
          "base_uri": "https://localhost:8080/",
          "height": 84
        },
        "outputId": "39d7f436-643a-4ec7-8cba-3703551e2cd4"
      },
      "source": [
        "z = np.full((4,6),7)\n",
        "print(z)"
      ],
      "execution_count": 8,
      "outputs": [
        {
          "output_type": "stream",
          "text": [
            "[[7 7 7 7 7 7]\n",
            " [7 7 7 7 7 7]\n",
            " [7 7 7 7 7 7]\n",
            " [7 7 7 7 7 7]]\n"
          ],
          "name": "stdout"
        }
      ]
    },
    {
      "cell_type": "code",
      "metadata": {
        "id": "DPBfuA3EZoGo",
        "colab_type": "code",
        "colab": {
          "base_uri": "https://localhost:8080/",
          "height": 50
        },
        "outputId": "04ae51a2-ab80-494c-db8e-3c2897a0468e"
      },
      "source": [
        "arr = np.array([[1,2,3],[4,5,6],[7,8,9]])\n",
        "print(arr[1:])"
      ],
      "execution_count": 10,
      "outputs": [
        {
          "output_type": "stream",
          "text": [
            "[[4 5 6]\n",
            " [7 8 9]]\n"
          ],
          "name": "stdout"
        }
      ]
    },
    {
      "cell_type": "code",
      "metadata": {
        "id": "W1Jkf0KKaTei",
        "colab_type": "code",
        "colab": {
          "base_uri": "https://localhost:8080/",
          "height": 67
        },
        "outputId": "61f03d59-96b2-442f-bf00-9ecc91cd9169"
      },
      "source": [
        "n = np.arange(6)\n",
        "print(n)\n",
        "y = np.arange(6).reshape(2,3)\n",
        "print(y)"
      ],
      "execution_count": 14,
      "outputs": [
        {
          "output_type": "stream",
          "text": [
            "[0 1 2 3 4 5]\n",
            "[[0 1 2]\n",
            " [3 4 5]]\n"
          ],
          "name": "stdout"
        }
      ]
    },
    {
      "cell_type": "code",
      "metadata": {
        "id": "wCv8aH9cbnUd",
        "colab_type": "code",
        "colab": {
          "base_uri": "https://localhost:8080/",
          "height": 101
        },
        "outputId": "d8003028-d98b-4b30-a148-547779c3cfb1"
      },
      "source": [
        "!pip install pandas"
      ],
      "execution_count": 15,
      "outputs": [
        {
          "output_type": "stream",
          "text": [
            "Requirement already satisfied: pandas in /usr/local/lib/python3.6/dist-packages (1.0.3)\n",
            "Requirement already satisfied: numpy>=1.13.3 in /usr/local/lib/python3.6/dist-packages (from pandas) (1.18.2)\n",
            "Requirement already satisfied: pytz>=2017.2 in /usr/local/lib/python3.6/dist-packages (from pandas) (2018.9)\n",
            "Requirement already satisfied: python-dateutil>=2.6.1 in /usr/local/lib/python3.6/dist-packages (from pandas) (2.8.1)\n",
            "Requirement already satisfied: six>=1.5 in /usr/local/lib/python3.6/dist-packages (from python-dateutil>=2.6.1->pandas) (1.12.0)\n"
          ],
          "name": "stdout"
        }
      ]
    },
    {
      "cell_type": "code",
      "metadata": {
        "id": "Dc5I-QKWbwk5",
        "colab_type": "code",
        "colab": {
          "base_uri": "https://localhost:8080/",
          "height": 101
        },
        "outputId": "fcaf5c03-2060-4657-d72a-1090021de02c"
      },
      "source": [
        "import pandas as pd\n",
        "di = {\n",
        "    'list 1' : [1,2,3,4],\n",
        "    'list 2' : [5,6,7,8],\n",
        "    'list 3' : [9,10,11,12]\n",
        "}\n",
        "\n",
        "new_panda = pd.DataFrame(di)\n",
        "print(new_panda)"
      ],
      "execution_count": 18,
      "outputs": [
        {
          "output_type": "stream",
          "text": [
            "   list 1  list 2  list 3\n",
            "0       1       5       9\n",
            "1       2       6      10\n",
            "2       3       7      11\n",
            "3       4       8      12\n"
          ],
          "name": "stdout"
        }
      ]
    },
    {
      "cell_type": "code",
      "metadata": {
        "id": "d31BkrgXfIZ6",
        "colab_type": "code",
        "colab": {
          "base_uri": "https://localhost:8080/",
          "height": 84
        },
        "outputId": "ce33d236-00fc-4d9b-ab02-2e52b624a63b"
      },
      "source": [
        "new_panda.loc[2]"
      ],
      "execution_count": 19,
      "outputs": [
        {
          "output_type": "execute_result",
          "data": {
            "text/plain": [
              "list 1     3\n",
              "list 2     7\n",
              "list 3    11\n",
              "Name: 2, dtype: int64"
            ]
          },
          "metadata": {
            "tags": []
          },
          "execution_count": 19
        }
      ]
    },
    {
      "cell_type": "code",
      "metadata": {
        "id": "mgn4p1l0gROr",
        "colab_type": "code",
        "colab": {
          "base_uri": "https://localhost:8080/",
          "height": 669
        },
        "outputId": "240786fc-272e-4b74-f6e0-4b3e74d1d9e6"
      },
      "source": [
        "url = 'https://raw.githubusercontent.com/codeforamerica/ohana-api/master/data/sample-csv/addresses.csv'\n",
        "p = pd.read_csv(url)\n"
      ],
      "execution_count": 20,
      "outputs": [
        {
          "output_type": "execute_result",
          "data": {
            "text/html": [
              "<div>\n",
              "<style scoped>\n",
              "    .dataframe tbody tr th:only-of-type {\n",
              "        vertical-align: middle;\n",
              "    }\n",
              "\n",
              "    .dataframe tbody tr th {\n",
              "        vertical-align: top;\n",
              "    }\n",
              "\n",
              "    .dataframe thead th {\n",
              "        text-align: right;\n",
              "    }\n",
              "</style>\n",
              "<table border=\"1\" class=\"dataframe\">\n",
              "  <thead>\n",
              "    <tr style=\"text-align: right;\">\n",
              "      <th></th>\n",
              "      <th>id</th>\n",
              "      <th>location_id</th>\n",
              "      <th>address_1</th>\n",
              "      <th>address_2</th>\n",
              "      <th>city</th>\n",
              "      <th>state_province</th>\n",
              "      <th>postal_code</th>\n",
              "      <th>country</th>\n",
              "    </tr>\n",
              "  </thead>\n",
              "  <tbody>\n",
              "    <tr>\n",
              "      <th>0</th>\n",
              "      <td>1</td>\n",
              "      <td>1</td>\n",
              "      <td>2600 Middlefield Road</td>\n",
              "      <td>NaN</td>\n",
              "      <td>Redwood City</td>\n",
              "      <td>CA</td>\n",
              "      <td>94063</td>\n",
              "      <td>US</td>\n",
              "    </tr>\n",
              "    <tr>\n",
              "      <th>1</th>\n",
              "      <td>2</td>\n",
              "      <td>2</td>\n",
              "      <td>24 Second Avenue</td>\n",
              "      <td>NaN</td>\n",
              "      <td>San Mateo</td>\n",
              "      <td>CA</td>\n",
              "      <td>94401</td>\n",
              "      <td>US</td>\n",
              "    </tr>\n",
              "    <tr>\n",
              "      <th>2</th>\n",
              "      <td>3</td>\n",
              "      <td>3</td>\n",
              "      <td>24 Second Avenue</td>\n",
              "      <td>NaN</td>\n",
              "      <td>San Mateo</td>\n",
              "      <td>CA</td>\n",
              "      <td>94403</td>\n",
              "      <td>US</td>\n",
              "    </tr>\n",
              "    <tr>\n",
              "      <th>3</th>\n",
              "      <td>4</td>\n",
              "      <td>4</td>\n",
              "      <td>24 Second Avenue</td>\n",
              "      <td>NaN</td>\n",
              "      <td>San Mateo</td>\n",
              "      <td>CA</td>\n",
              "      <td>94401</td>\n",
              "      <td>US</td>\n",
              "    </tr>\n",
              "    <tr>\n",
              "      <th>4</th>\n",
              "      <td>5</td>\n",
              "      <td>5</td>\n",
              "      <td>24 Second Avenue</td>\n",
              "      <td>NaN</td>\n",
              "      <td>San Mateo</td>\n",
              "      <td>CA</td>\n",
              "      <td>94401</td>\n",
              "      <td>US</td>\n",
              "    </tr>\n",
              "    <tr>\n",
              "      <th>5</th>\n",
              "      <td>6</td>\n",
              "      <td>6</td>\n",
              "      <td>800 Middle Avenue</td>\n",
              "      <td>NaN</td>\n",
              "      <td>Menlo Park</td>\n",
              "      <td>CA</td>\n",
              "      <td>94025-9881</td>\n",
              "      <td>US</td>\n",
              "    </tr>\n",
              "    <tr>\n",
              "      <th>6</th>\n",
              "      <td>7</td>\n",
              "      <td>7</td>\n",
              "      <td>500 Arbor Road</td>\n",
              "      <td>NaN</td>\n",
              "      <td>Menlo Park</td>\n",
              "      <td>CA</td>\n",
              "      <td>94025</td>\n",
              "      <td>US</td>\n",
              "    </tr>\n",
              "    <tr>\n",
              "      <th>7</th>\n",
              "      <td>8</td>\n",
              "      <td>8</td>\n",
              "      <td>800 Middle Avenue</td>\n",
              "      <td>NaN</td>\n",
              "      <td>Menlo Park</td>\n",
              "      <td>CA</td>\n",
              "      <td>94025-9881</td>\n",
              "      <td>US</td>\n",
              "    </tr>\n",
              "    <tr>\n",
              "      <th>8</th>\n",
              "      <td>9</td>\n",
              "      <td>9</td>\n",
              "      <td>2510 Middlefield Road</td>\n",
              "      <td>NaN</td>\n",
              "      <td>Redwood City</td>\n",
              "      <td>CA</td>\n",
              "      <td>94063</td>\n",
              "      <td>US</td>\n",
              "    </tr>\n",
              "    <tr>\n",
              "      <th>9</th>\n",
              "      <td>10</td>\n",
              "      <td>10</td>\n",
              "      <td>1044 Middlefield Road</td>\n",
              "      <td>NaN</td>\n",
              "      <td>Redwood City</td>\n",
              "      <td>CA</td>\n",
              "      <td>94063</td>\n",
              "      <td>US</td>\n",
              "    </tr>\n",
              "    <tr>\n",
              "      <th>10</th>\n",
              "      <td>11</td>\n",
              "      <td>11</td>\n",
              "      <td>2140 Euclid Avenue.</td>\n",
              "      <td>NaN</td>\n",
              "      <td>Redwood City</td>\n",
              "      <td>CA</td>\n",
              "      <td>94061</td>\n",
              "      <td>US</td>\n",
              "    </tr>\n",
              "    <tr>\n",
              "      <th>11</th>\n",
              "      <td>12</td>\n",
              "      <td>12</td>\n",
              "      <td>1044 Middlefield Road</td>\n",
              "      <td>2nd Floor</td>\n",
              "      <td>Redwood City</td>\n",
              "      <td>CA</td>\n",
              "      <td>94063</td>\n",
              "      <td>US</td>\n",
              "    </tr>\n",
              "    <tr>\n",
              "      <th>12</th>\n",
              "      <td>13</td>\n",
              "      <td>13</td>\n",
              "      <td>399 Marine Parkway.</td>\n",
              "      <td>NaN</td>\n",
              "      <td>Redwood City</td>\n",
              "      <td>CA</td>\n",
              "      <td>94065</td>\n",
              "      <td>US</td>\n",
              "    </tr>\n",
              "    <tr>\n",
              "      <th>13</th>\n",
              "      <td>14</td>\n",
              "      <td>14</td>\n",
              "      <td>660 Veterans Blvd.</td>\n",
              "      <td>NaN</td>\n",
              "      <td>Redwood City</td>\n",
              "      <td>CA</td>\n",
              "      <td>94063</td>\n",
              "      <td>US</td>\n",
              "    </tr>\n",
              "    <tr>\n",
              "      <th>14</th>\n",
              "      <td>15</td>\n",
              "      <td>15</td>\n",
              "      <td>1500 Valencia Street</td>\n",
              "      <td>NaN</td>\n",
              "      <td>San Francisco</td>\n",
              "      <td>CA</td>\n",
              "      <td>94110</td>\n",
              "      <td>US</td>\n",
              "    </tr>\n",
              "    <tr>\n",
              "      <th>15</th>\n",
              "      <td>16</td>\n",
              "      <td>16</td>\n",
              "      <td>1161 South Bernardo</td>\n",
              "      <td>NaN</td>\n",
              "      <td>Sunnyvale</td>\n",
              "      <td>CA</td>\n",
              "      <td>94087</td>\n",
              "      <td>US</td>\n",
              "    </tr>\n",
              "    <tr>\n",
              "      <th>16</th>\n",
              "      <td>17</td>\n",
              "      <td>17</td>\n",
              "      <td>409 South Spruce Avenue</td>\n",
              "      <td>NaN</td>\n",
              "      <td>South San Francisco</td>\n",
              "      <td>CA</td>\n",
              "      <td>94080</td>\n",
              "      <td>US</td>\n",
              "    </tr>\n",
              "    <tr>\n",
              "      <th>17</th>\n",
              "      <td>18</td>\n",
              "      <td>18</td>\n",
              "      <td>114 Fifth Avenue</td>\n",
              "      <td>NaN</td>\n",
              "      <td>Redwood City</td>\n",
              "      <td>CA</td>\n",
              "      <td>94063</td>\n",
              "      <td>US</td>\n",
              "    </tr>\n",
              "    <tr>\n",
              "      <th>18</th>\n",
              "      <td>19</td>\n",
              "      <td>19</td>\n",
              "      <td>19 West 39th Avenue</td>\n",
              "      <td>NaN</td>\n",
              "      <td>San Mateo</td>\n",
              "      <td>CA</td>\n",
              "      <td>94403</td>\n",
              "      <td>US</td>\n",
              "    </tr>\n",
              "    <tr>\n",
              "      <th>19</th>\n",
              "      <td>20</td>\n",
              "      <td>21</td>\n",
              "      <td>123 El Camino Real</td>\n",
              "      <td>NaN</td>\n",
              "      <td>Belmont</td>\n",
              "      <td>CA</td>\n",
              "      <td>94002</td>\n",
              "      <td>US</td>\n",
              "    </tr>\n",
              "    <tr>\n",
              "      <th>20</th>\n",
              "      <td>21</td>\n",
              "      <td>22</td>\n",
              "      <td>2013 Avenue of the fellows</td>\n",
              "      <td>Suite 100</td>\n",
              "      <td>San Francisco</td>\n",
              "      <td>CA</td>\n",
              "      <td>94103</td>\n",
              "      <td>US</td>\n",
              "    </tr>\n",
              "  </tbody>\n",
              "</table>\n",
              "</div>"
            ],
            "text/plain": [
              "    id  location_id  ... postal_code country\n",
              "0    1            1  ...       94063      US\n",
              "1    2            2  ...       94401      US\n",
              "2    3            3  ...       94403      US\n",
              "3    4            4  ...       94401      US\n",
              "4    5            5  ...       94401      US\n",
              "5    6            6  ...  94025-9881      US\n",
              "6    7            7  ...       94025      US\n",
              "7    8            8  ...  94025-9881      US\n",
              "8    9            9  ...       94063      US\n",
              "9   10           10  ...       94063      US\n",
              "10  11           11  ...       94061      US\n",
              "11  12           12  ...       94063      US\n",
              "12  13           13  ...       94065      US\n",
              "13  14           14  ...       94063      US\n",
              "14  15           15  ...       94110      US\n",
              "15  16           16  ...       94087      US\n",
              "16  17           17  ...       94080      US\n",
              "17  18           18  ...       94063      US\n",
              "18  19           19  ...       94403      US\n",
              "19  20           21  ...       94002      US\n",
              "20  21           22  ...       94103      US\n",
              "\n",
              "[21 rows x 8 columns]"
            ]
          },
          "metadata": {
            "tags": []
          },
          "execution_count": 20
        }
      ]
    },
    {
      "cell_type": "code",
      "metadata": {
        "id": "g6wYBhHKhGLC",
        "colab_type": "code",
        "colab": {
          "base_uri": "https://localhost:8080/",
          "height": 136
        },
        "outputId": "ea1cf5bf-a9ba-4eb8-9e38-6b3f2e44a23c"
      },
      "source": [
        "p.head(3)"
      ],
      "execution_count": 21,
      "outputs": [
        {
          "output_type": "execute_result",
          "data": {
            "text/html": [
              "<div>\n",
              "<style scoped>\n",
              "    .dataframe tbody tr th:only-of-type {\n",
              "        vertical-align: middle;\n",
              "    }\n",
              "\n",
              "    .dataframe tbody tr th {\n",
              "        vertical-align: top;\n",
              "    }\n",
              "\n",
              "    .dataframe thead th {\n",
              "        text-align: right;\n",
              "    }\n",
              "</style>\n",
              "<table border=\"1\" class=\"dataframe\">\n",
              "  <thead>\n",
              "    <tr style=\"text-align: right;\">\n",
              "      <th></th>\n",
              "      <th>id</th>\n",
              "      <th>location_id</th>\n",
              "      <th>address_1</th>\n",
              "      <th>address_2</th>\n",
              "      <th>city</th>\n",
              "      <th>state_province</th>\n",
              "      <th>postal_code</th>\n",
              "      <th>country</th>\n",
              "    </tr>\n",
              "  </thead>\n",
              "  <tbody>\n",
              "    <tr>\n",
              "      <th>0</th>\n",
              "      <td>1</td>\n",
              "      <td>1</td>\n",
              "      <td>2600 Middlefield Road</td>\n",
              "      <td>NaN</td>\n",
              "      <td>Redwood City</td>\n",
              "      <td>CA</td>\n",
              "      <td>94063</td>\n",
              "      <td>US</td>\n",
              "    </tr>\n",
              "    <tr>\n",
              "      <th>1</th>\n",
              "      <td>2</td>\n",
              "      <td>2</td>\n",
              "      <td>24 Second Avenue</td>\n",
              "      <td>NaN</td>\n",
              "      <td>San Mateo</td>\n",
              "      <td>CA</td>\n",
              "      <td>94401</td>\n",
              "      <td>US</td>\n",
              "    </tr>\n",
              "    <tr>\n",
              "      <th>2</th>\n",
              "      <td>3</td>\n",
              "      <td>3</td>\n",
              "      <td>24 Second Avenue</td>\n",
              "      <td>NaN</td>\n",
              "      <td>San Mateo</td>\n",
              "      <td>CA</td>\n",
              "      <td>94403</td>\n",
              "      <td>US</td>\n",
              "    </tr>\n",
              "  </tbody>\n",
              "</table>\n",
              "</div>"
            ],
            "text/plain": [
              "   id  location_id              address_1  ... state_province postal_code country\n",
              "0   1            1  2600 Middlefield Road  ...             CA       94063      US\n",
              "1   2            2       24 Second Avenue  ...             CA       94401      US\n",
              "2   3            3       24 Second Avenue  ...             CA       94403      US\n",
              "\n",
              "[3 rows x 8 columns]"
            ]
          },
          "metadata": {
            "tags": []
          },
          "execution_count": 21
        }
      ]
    },
    {
      "cell_type": "code",
      "metadata": {
        "id": "CZFQo2r8hImw",
        "colab_type": "code",
        "colab": {
          "base_uri": "https://localhost:8080/",
          "height": 225
        },
        "outputId": "cdc945e4-1a4d-445b-955f-cd031bc74931"
      },
      "source": [
        "p.tail(6)"
      ],
      "execution_count": 22,
      "outputs": [
        {
          "output_type": "execute_result",
          "data": {
            "text/html": [
              "<div>\n",
              "<style scoped>\n",
              "    .dataframe tbody tr th:only-of-type {\n",
              "        vertical-align: middle;\n",
              "    }\n",
              "\n",
              "    .dataframe tbody tr th {\n",
              "        vertical-align: top;\n",
              "    }\n",
              "\n",
              "    .dataframe thead th {\n",
              "        text-align: right;\n",
              "    }\n",
              "</style>\n",
              "<table border=\"1\" class=\"dataframe\">\n",
              "  <thead>\n",
              "    <tr style=\"text-align: right;\">\n",
              "      <th></th>\n",
              "      <th>id</th>\n",
              "      <th>location_id</th>\n",
              "      <th>address_1</th>\n",
              "      <th>address_2</th>\n",
              "      <th>city</th>\n",
              "      <th>state_province</th>\n",
              "      <th>postal_code</th>\n",
              "      <th>country</th>\n",
              "    </tr>\n",
              "  </thead>\n",
              "  <tbody>\n",
              "    <tr>\n",
              "      <th>15</th>\n",
              "      <td>16</td>\n",
              "      <td>16</td>\n",
              "      <td>1161 South Bernardo</td>\n",
              "      <td>NaN</td>\n",
              "      <td>Sunnyvale</td>\n",
              "      <td>CA</td>\n",
              "      <td>94087</td>\n",
              "      <td>US</td>\n",
              "    </tr>\n",
              "    <tr>\n",
              "      <th>16</th>\n",
              "      <td>17</td>\n",
              "      <td>17</td>\n",
              "      <td>409 South Spruce Avenue</td>\n",
              "      <td>NaN</td>\n",
              "      <td>South San Francisco</td>\n",
              "      <td>CA</td>\n",
              "      <td>94080</td>\n",
              "      <td>US</td>\n",
              "    </tr>\n",
              "    <tr>\n",
              "      <th>17</th>\n",
              "      <td>18</td>\n",
              "      <td>18</td>\n",
              "      <td>114 Fifth Avenue</td>\n",
              "      <td>NaN</td>\n",
              "      <td>Redwood City</td>\n",
              "      <td>CA</td>\n",
              "      <td>94063</td>\n",
              "      <td>US</td>\n",
              "    </tr>\n",
              "    <tr>\n",
              "      <th>18</th>\n",
              "      <td>19</td>\n",
              "      <td>19</td>\n",
              "      <td>19 West 39th Avenue</td>\n",
              "      <td>NaN</td>\n",
              "      <td>San Mateo</td>\n",
              "      <td>CA</td>\n",
              "      <td>94403</td>\n",
              "      <td>US</td>\n",
              "    </tr>\n",
              "    <tr>\n",
              "      <th>19</th>\n",
              "      <td>20</td>\n",
              "      <td>21</td>\n",
              "      <td>123 El Camino Real</td>\n",
              "      <td>NaN</td>\n",
              "      <td>Belmont</td>\n",
              "      <td>CA</td>\n",
              "      <td>94002</td>\n",
              "      <td>US</td>\n",
              "    </tr>\n",
              "    <tr>\n",
              "      <th>20</th>\n",
              "      <td>21</td>\n",
              "      <td>22</td>\n",
              "      <td>2013 Avenue of the fellows</td>\n",
              "      <td>Suite 100</td>\n",
              "      <td>San Francisco</td>\n",
              "      <td>CA</td>\n",
              "      <td>94103</td>\n",
              "      <td>US</td>\n",
              "    </tr>\n",
              "  </tbody>\n",
              "</table>\n",
              "</div>"
            ],
            "text/plain": [
              "    id  location_id  ... postal_code country\n",
              "15  16           16  ...       94087      US\n",
              "16  17           17  ...       94080      US\n",
              "17  18           18  ...       94063      US\n",
              "18  19           19  ...       94403      US\n",
              "19  20           21  ...       94002      US\n",
              "20  21           22  ...       94103      US\n",
              "\n",
              "[6 rows x 8 columns]"
            ]
          },
          "metadata": {
            "tags": []
          },
          "execution_count": 22
        }
      ]
    },
    {
      "cell_type": "code",
      "metadata": {
        "id": "Oplln07jhLhv",
        "colab_type": "code",
        "colab": {
          "base_uri": "https://localhost:8080/",
          "height": 269
        },
        "outputId": "990e79b5-c157-49e7-8794-d7ddc45b77b1"
      },
      "source": [
        "p.info()"
      ],
      "execution_count": 23,
      "outputs": [
        {
          "output_type": "stream",
          "text": [
            "<class 'pandas.core.frame.DataFrame'>\n",
            "RangeIndex: 21 entries, 0 to 20\n",
            "Data columns (total 8 columns):\n",
            " #   Column          Non-Null Count  Dtype \n",
            "---  ------          --------------  ----- \n",
            " 0   id              21 non-null     int64 \n",
            " 1   location_id     21 non-null     int64 \n",
            " 2   address_1       21 non-null     object\n",
            " 3   address_2       2 non-null      object\n",
            " 4   city            21 non-null     object\n",
            " 5   state_province  21 non-null     object\n",
            " 6   postal_code     21 non-null     object\n",
            " 7   country         21 non-null     object\n",
            "dtypes: int64(2), object(6)\n",
            "memory usage: 1.4+ KB\n"
          ],
          "name": "stdout"
        }
      ]
    },
    {
      "cell_type": "code",
      "metadata": {
        "id": "aOxHRKZihO8M",
        "colab_type": "code",
        "colab": {
          "base_uri": "https://localhost:8080/",
          "height": 370
        },
        "outputId": "1d2d0363-4bd5-4ab4-b6d3-f2ec487dca88"
      },
      "source": [
        "city = p['city']\n",
        "city\n",
        "my_list = list(city)\n",
        "my_dict = dict(city)\n",
        "my_dict"
      ],
      "execution_count": 29,
      "outputs": [
        {
          "output_type": "execute_result",
          "data": {
            "text/plain": [
              "{0: 'Redwood City',\n",
              " 1: 'San Mateo',\n",
              " 2: 'San Mateo',\n",
              " 3: 'San Mateo',\n",
              " 4: 'San Mateo',\n",
              " 5: 'Menlo Park',\n",
              " 6: 'Menlo Park',\n",
              " 7: 'Menlo Park',\n",
              " 8: 'Redwood City',\n",
              " 9: 'Redwood City',\n",
              " 10: 'Redwood City',\n",
              " 11: 'Redwood City',\n",
              " 12: 'Redwood City',\n",
              " 13: 'Redwood City',\n",
              " 14: 'San Francisco',\n",
              " 15: 'Sunnyvale',\n",
              " 16: 'South San Francisco',\n",
              " 17: 'Redwood City',\n",
              " 18: 'San Mateo',\n",
              " 19: 'Belmont',\n",
              " 20: 'San Francisco'}"
            ]
          },
          "metadata": {
            "tags": []
          },
          "execution_count": 29
        }
      ]
    },
    {
      "cell_type": "code",
      "metadata": {
        "id": "Wg-YvDuXi5en",
        "colab_type": "code",
        "colab": {
          "base_uri": "https://localhost:8080/",
          "height": 669
        },
        "outputId": "e8b7a54c-5741-4e56-8636-a769e41cb6b1"
      },
      "source": [
        "p"
      ],
      "execution_count": 30,
      "outputs": [
        {
          "output_type": "execute_result",
          "data": {
            "text/html": [
              "<div>\n",
              "<style scoped>\n",
              "    .dataframe tbody tr th:only-of-type {\n",
              "        vertical-align: middle;\n",
              "    }\n",
              "\n",
              "    .dataframe tbody tr th {\n",
              "        vertical-align: top;\n",
              "    }\n",
              "\n",
              "    .dataframe thead th {\n",
              "        text-align: right;\n",
              "    }\n",
              "</style>\n",
              "<table border=\"1\" class=\"dataframe\">\n",
              "  <thead>\n",
              "    <tr style=\"text-align: right;\">\n",
              "      <th></th>\n",
              "      <th>id</th>\n",
              "      <th>location_id</th>\n",
              "      <th>address_1</th>\n",
              "      <th>address_2</th>\n",
              "      <th>city</th>\n",
              "      <th>state_province</th>\n",
              "      <th>postal_code</th>\n",
              "      <th>country</th>\n",
              "    </tr>\n",
              "  </thead>\n",
              "  <tbody>\n",
              "    <tr>\n",
              "      <th>0</th>\n",
              "      <td>1</td>\n",
              "      <td>1</td>\n",
              "      <td>2600 Middlefield Road</td>\n",
              "      <td>NaN</td>\n",
              "      <td>Redwood City</td>\n",
              "      <td>CA</td>\n",
              "      <td>94063</td>\n",
              "      <td>US</td>\n",
              "    </tr>\n",
              "    <tr>\n",
              "      <th>1</th>\n",
              "      <td>2</td>\n",
              "      <td>2</td>\n",
              "      <td>24 Second Avenue</td>\n",
              "      <td>NaN</td>\n",
              "      <td>San Mateo</td>\n",
              "      <td>CA</td>\n",
              "      <td>94401</td>\n",
              "      <td>US</td>\n",
              "    </tr>\n",
              "    <tr>\n",
              "      <th>2</th>\n",
              "      <td>3</td>\n",
              "      <td>3</td>\n",
              "      <td>24 Second Avenue</td>\n",
              "      <td>NaN</td>\n",
              "      <td>San Mateo</td>\n",
              "      <td>CA</td>\n",
              "      <td>94403</td>\n",
              "      <td>US</td>\n",
              "    </tr>\n",
              "    <tr>\n",
              "      <th>3</th>\n",
              "      <td>4</td>\n",
              "      <td>4</td>\n",
              "      <td>24 Second Avenue</td>\n",
              "      <td>NaN</td>\n",
              "      <td>San Mateo</td>\n",
              "      <td>CA</td>\n",
              "      <td>94401</td>\n",
              "      <td>US</td>\n",
              "    </tr>\n",
              "    <tr>\n",
              "      <th>4</th>\n",
              "      <td>5</td>\n",
              "      <td>5</td>\n",
              "      <td>24 Second Avenue</td>\n",
              "      <td>NaN</td>\n",
              "      <td>San Mateo</td>\n",
              "      <td>CA</td>\n",
              "      <td>94401</td>\n",
              "      <td>US</td>\n",
              "    </tr>\n",
              "    <tr>\n",
              "      <th>5</th>\n",
              "      <td>6</td>\n",
              "      <td>6</td>\n",
              "      <td>800 Middle Avenue</td>\n",
              "      <td>NaN</td>\n",
              "      <td>Menlo Park</td>\n",
              "      <td>CA</td>\n",
              "      <td>94025-9881</td>\n",
              "      <td>US</td>\n",
              "    </tr>\n",
              "    <tr>\n",
              "      <th>6</th>\n",
              "      <td>7</td>\n",
              "      <td>7</td>\n",
              "      <td>500 Arbor Road</td>\n",
              "      <td>NaN</td>\n",
              "      <td>Menlo Park</td>\n",
              "      <td>CA</td>\n",
              "      <td>94025</td>\n",
              "      <td>US</td>\n",
              "    </tr>\n",
              "    <tr>\n",
              "      <th>7</th>\n",
              "      <td>8</td>\n",
              "      <td>8</td>\n",
              "      <td>800 Middle Avenue</td>\n",
              "      <td>NaN</td>\n",
              "      <td>Menlo Park</td>\n",
              "      <td>CA</td>\n",
              "      <td>94025-9881</td>\n",
              "      <td>US</td>\n",
              "    </tr>\n",
              "    <tr>\n",
              "      <th>8</th>\n",
              "      <td>9</td>\n",
              "      <td>9</td>\n",
              "      <td>2510 Middlefield Road</td>\n",
              "      <td>NaN</td>\n",
              "      <td>Redwood City</td>\n",
              "      <td>CA</td>\n",
              "      <td>94063</td>\n",
              "      <td>US</td>\n",
              "    </tr>\n",
              "    <tr>\n",
              "      <th>9</th>\n",
              "      <td>10</td>\n",
              "      <td>10</td>\n",
              "      <td>1044 Middlefield Road</td>\n",
              "      <td>NaN</td>\n",
              "      <td>Redwood City</td>\n",
              "      <td>CA</td>\n",
              "      <td>94063</td>\n",
              "      <td>US</td>\n",
              "    </tr>\n",
              "    <tr>\n",
              "      <th>10</th>\n",
              "      <td>11</td>\n",
              "      <td>11</td>\n",
              "      <td>2140 Euclid Avenue.</td>\n",
              "      <td>NaN</td>\n",
              "      <td>Redwood City</td>\n",
              "      <td>CA</td>\n",
              "      <td>94061</td>\n",
              "      <td>US</td>\n",
              "    </tr>\n",
              "    <tr>\n",
              "      <th>11</th>\n",
              "      <td>12</td>\n",
              "      <td>12</td>\n",
              "      <td>1044 Middlefield Road</td>\n",
              "      <td>2nd Floor</td>\n",
              "      <td>Redwood City</td>\n",
              "      <td>CA</td>\n",
              "      <td>94063</td>\n",
              "      <td>US</td>\n",
              "    </tr>\n",
              "    <tr>\n",
              "      <th>12</th>\n",
              "      <td>13</td>\n",
              "      <td>13</td>\n",
              "      <td>399 Marine Parkway.</td>\n",
              "      <td>NaN</td>\n",
              "      <td>Redwood City</td>\n",
              "      <td>CA</td>\n",
              "      <td>94065</td>\n",
              "      <td>US</td>\n",
              "    </tr>\n",
              "    <tr>\n",
              "      <th>13</th>\n",
              "      <td>14</td>\n",
              "      <td>14</td>\n",
              "      <td>660 Veterans Blvd.</td>\n",
              "      <td>NaN</td>\n",
              "      <td>Redwood City</td>\n",
              "      <td>CA</td>\n",
              "      <td>94063</td>\n",
              "      <td>US</td>\n",
              "    </tr>\n",
              "    <tr>\n",
              "      <th>14</th>\n",
              "      <td>15</td>\n",
              "      <td>15</td>\n",
              "      <td>1500 Valencia Street</td>\n",
              "      <td>NaN</td>\n",
              "      <td>San Francisco</td>\n",
              "      <td>CA</td>\n",
              "      <td>94110</td>\n",
              "      <td>US</td>\n",
              "    </tr>\n",
              "    <tr>\n",
              "      <th>15</th>\n",
              "      <td>16</td>\n",
              "      <td>16</td>\n",
              "      <td>1161 South Bernardo</td>\n",
              "      <td>NaN</td>\n",
              "      <td>Sunnyvale</td>\n",
              "      <td>CA</td>\n",
              "      <td>94087</td>\n",
              "      <td>US</td>\n",
              "    </tr>\n",
              "    <tr>\n",
              "      <th>16</th>\n",
              "      <td>17</td>\n",
              "      <td>17</td>\n",
              "      <td>409 South Spruce Avenue</td>\n",
              "      <td>NaN</td>\n",
              "      <td>South San Francisco</td>\n",
              "      <td>CA</td>\n",
              "      <td>94080</td>\n",
              "      <td>US</td>\n",
              "    </tr>\n",
              "    <tr>\n",
              "      <th>17</th>\n",
              "      <td>18</td>\n",
              "      <td>18</td>\n",
              "      <td>114 Fifth Avenue</td>\n",
              "      <td>NaN</td>\n",
              "      <td>Redwood City</td>\n",
              "      <td>CA</td>\n",
              "      <td>94063</td>\n",
              "      <td>US</td>\n",
              "    </tr>\n",
              "    <tr>\n",
              "      <th>18</th>\n",
              "      <td>19</td>\n",
              "      <td>19</td>\n",
              "      <td>19 West 39th Avenue</td>\n",
              "      <td>NaN</td>\n",
              "      <td>San Mateo</td>\n",
              "      <td>CA</td>\n",
              "      <td>94403</td>\n",
              "      <td>US</td>\n",
              "    </tr>\n",
              "    <tr>\n",
              "      <th>19</th>\n",
              "      <td>20</td>\n",
              "      <td>21</td>\n",
              "      <td>123 El Camino Real</td>\n",
              "      <td>NaN</td>\n",
              "      <td>Belmont</td>\n",
              "      <td>CA</td>\n",
              "      <td>94002</td>\n",
              "      <td>US</td>\n",
              "    </tr>\n",
              "    <tr>\n",
              "      <th>20</th>\n",
              "      <td>21</td>\n",
              "      <td>22</td>\n",
              "      <td>2013 Avenue of the fellows</td>\n",
              "      <td>Suite 100</td>\n",
              "      <td>San Francisco</td>\n",
              "      <td>CA</td>\n",
              "      <td>94103</td>\n",
              "      <td>US</td>\n",
              "    </tr>\n",
              "  </tbody>\n",
              "</table>\n",
              "</div>"
            ],
            "text/plain": [
              "    id  location_id  ... postal_code country\n",
              "0    1            1  ...       94063      US\n",
              "1    2            2  ...       94401      US\n",
              "2    3            3  ...       94403      US\n",
              "3    4            4  ...       94401      US\n",
              "4    5            5  ...       94401      US\n",
              "5    6            6  ...  94025-9881      US\n",
              "6    7            7  ...       94025      US\n",
              "7    8            8  ...  94025-9881      US\n",
              "8    9            9  ...       94063      US\n",
              "9   10           10  ...       94063      US\n",
              "10  11           11  ...       94061      US\n",
              "11  12           12  ...       94063      US\n",
              "12  13           13  ...       94065      US\n",
              "13  14           14  ...       94063      US\n",
              "14  15           15  ...       94110      US\n",
              "15  16           16  ...       94087      US\n",
              "16  17           17  ...       94080      US\n",
              "17  18           18  ...       94063      US\n",
              "18  19           19  ...       94403      US\n",
              "19  20           21  ...       94002      US\n",
              "20  21           22  ...       94103      US\n",
              "\n",
              "[21 rows x 8 columns]"
            ]
          },
          "metadata": {
            "tags": []
          },
          "execution_count": 30
        }
      ]
    },
    {
      "cell_type": "code",
      "metadata": {
        "id": "IXi43Xc6jAxk",
        "colab_type": "code",
        "colab": {
          "base_uri": "https://localhost:8080/",
          "height": 235
        },
        "outputId": "14690308-5449-491d-fada-c477eca36541"
      },
      "source": [
        "p[p['location_id'] >= 10]['city']"
      ],
      "execution_count": 38,
      "outputs": [
        {
          "output_type": "execute_result",
          "data": {
            "text/plain": [
              "9            Redwood City\n",
              "10           Redwood City\n",
              "11           Redwood City\n",
              "12           Redwood City\n",
              "13           Redwood City\n",
              "14          San Francisco\n",
              "15              Sunnyvale\n",
              "16    South San Francisco\n",
              "17           Redwood City\n",
              "18              San Mateo\n",
              "19                Belmont\n",
              "20          San Francisco\n",
              "Name: city, dtype: object"
            ]
          },
          "metadata": {
            "tags": []
          },
          "execution_count": 38
        }
      ]
    }
  ]
}